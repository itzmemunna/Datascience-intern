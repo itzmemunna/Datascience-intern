{
 "cells": [
  {
   "cell_type": "code",
   "execution_count": 40,
   "id": "3b3c4b72",
   "metadata": {},
   "outputs": [
    {
     "name": "stdout",
     "output_type": "stream",
     "text": [
      "Top 3 lookalikes for each of the first 20 customers:\n",
      "Customer C0001: [{'LookalikeID': 'C0069', 'SimilarityScore': 0.8732}, {'LookalikeID': 'C0127', 'SimilarityScore': 0.8294}, {'LookalikeID': 'C0091', 'SimilarityScore': 0.8074}]\n",
      "Customer C0002: [{'LookalikeID': 'C0134', 'SimilarityScore': 0.8929}, {'LookalikeID': 'C0133', 'SimilarityScore': 0.8841}, {'LookalikeID': 'C0062', 'SimilarityScore': 0.8698}]\n",
      "Customer C0003: [{'LookalikeID': 'C0166', 'SimilarityScore': 0.9754}, {'LookalikeID': 'C0031', 'SimilarityScore': 0.898}, {'LookalikeID': 'C0159', 'SimilarityScore': 0.7922}]\n",
      "Customer C0004: [{'LookalikeID': 'C0065', 'SimilarityScore': 0.9105}, {'LookalikeID': 'C0017', 'SimilarityScore': 0.8593}, {'LookalikeID': 'C0075', 'SimilarityScore': 0.8567}]\n",
      "Customer C0005: [{'LookalikeID': 'C0197', 'SimilarityScore': 0.998}, {'LookalikeID': 'C0007', 'SimilarityScore': 0.9457}, {'LookalikeID': 'C0095', 'SimilarityScore': 0.918}]\n",
      "Customer C0006: [{'LookalikeID': 'C0185', 'SimilarityScore': 0.8794}, {'LookalikeID': 'C0196', 'SimilarityScore': 0.8543}, {'LookalikeID': 'C0079', 'SimilarityScore': 0.8344}]\n",
      "Customer C0007: [{'LookalikeID': 'C0005', 'SimilarityScore': 0.9457}, {'LookalikeID': 'C0197', 'SimilarityScore': 0.9233}, {'LookalikeID': 'C0140', 'SimilarityScore': 0.9189}]\n",
      "Customer C0008: [{'LookalikeID': 'C0162', 'SimilarityScore': 0.943}, {'LookalikeID': 'C0113', 'SimilarityScore': 0.8918}, {'LookalikeID': 'C0098', 'SimilarityScore': 0.8519}]\n",
      "Customer C0009: [{'LookalikeID': 'C0083', 'SimilarityScore': 0.9243}, {'LookalikeID': 'C0077', 'SimilarityScore': 0.9238}, {'LookalikeID': 'C0033', 'SimilarityScore': 0.9176}]\n",
      "Customer C0010: [{'LookalikeID': 'C0077', 'SimilarityScore': 0.9081}, {'LookalikeID': 'C0083', 'SimilarityScore': 0.8953}, {'LookalikeID': 'C0029', 'SimilarityScore': 0.8398}]\n",
      "Customer C0011: [{'LookalikeID': 'C0126', 'SimilarityScore': 0.9422}, {'LookalikeID': 'C0153', 'SimilarityScore': 0.8045}, {'LookalikeID': 'C0064', 'SimilarityScore': 0.7663}]\n",
      "Customer C0012: [{'LookalikeID': 'C0065', 'SimilarityScore': 0.948}, {'LookalikeID': 'C0136', 'SimilarityScore': 0.8794}, {'LookalikeID': 'C0104', 'SimilarityScore': 0.8732}]\n",
      "Customer C0013: [{'LookalikeID': 'C0105', 'SimilarityScore': 0.9433}, {'LookalikeID': 'C0188', 'SimilarityScore': 0.8227}, {'LookalikeID': 'C0102', 'SimilarityScore': 0.8119}]\n",
      "Customer C0014: [{'LookalikeID': 'C0151', 'SimilarityScore': 0.9968}, {'LookalikeID': 'C0097', 'SimilarityScore': 0.9892}, {'LookalikeID': 'C0060', 'SimilarityScore': 0.9825}]\n",
      "Customer C0015: [{'LookalikeID': 'C0123', 'SimilarityScore': 0.9844}, {'LookalikeID': 'C0014', 'SimilarityScore': 0.9399}, {'LookalikeID': 'C0151', 'SimilarityScore': 0.9226}]\n",
      "Customer C0016: [{'LookalikeID': 'C0183', 'SimilarityScore': 0.9999}, {'LookalikeID': 'C0107', 'SimilarityScore': 0.9879}, {'LookalikeID': 'C0105', 'SimilarityScore': 0.8776}]\n",
      "Customer C0017: [{'LookalikeID': 'C0075', 'SimilarityScore': 0.963}, {'LookalikeID': 'C0090', 'SimilarityScore': 0.9514}, {'LookalikeID': 'C0194', 'SimilarityScore': 0.9385}]\n",
      "Customer C0018: [{'LookalikeID': 'C0168', 'SimilarityScore': 0.8306}, {'LookalikeID': 'C0148', 'SimilarityScore': 0.8158}, {'LookalikeID': 'C0023', 'SimilarityScore': 0.7631}]\n",
      "Customer C0019: [{'LookalikeID': 'C0191', 'SimilarityScore': 0.9196}, {'LookalikeID': 'C0174', 'SimilarityScore': 0.8079}, {'LookalikeID': 'C0070', 'SimilarityScore': 0.6674}]\n",
      "Customer C0020: [{'LookalikeID': 'C0110', 'SimilarityScore': 0.9538}, {'LookalikeID': 'C0078', 'SimilarityScore': 0.9516}, {'LookalikeID': 'C0080', 'SimilarityScore': 0.9513}]\n"
     ]
    },
    {
     "ename": "PermissionError",
     "evalue": "[Errno 13] Permission denied: 'C:\\\\Users\\\\shaik\\\\Desktop\\\\newintern\\\\Lookalike.csv'",
     "output_type": "error",
     "traceback": [
      "\u001b[1;31m---------------------------------------------------------------------------\u001b[0m",
      "\u001b[1;31mPermissionError\u001b[0m                           Traceback (most recent call last)",
      "Cell \u001b[1;32mIn[40], line 69\u001b[0m\n\u001b[0;32m     64\u001b[0m     lookalike_data[\u001b[38;5;124m'\u001b[39m\u001b[38;5;124mLookalikes\u001b[39m\u001b[38;5;124m'\u001b[39m]\u001b[38;5;241m.\u001b[39mappend(\n\u001b[0;32m     65\u001b[0m         \u001b[38;5;124m\"\u001b[39m\u001b[38;5;124m, \u001b[39m\u001b[38;5;124m\"\u001b[39m\u001b[38;5;241m.\u001b[39mjoin([\u001b[38;5;124mf\u001b[39m\u001b[38;5;124m\"\u001b[39m\u001b[38;5;130;01m{{\u001b[39;00m\u001b[38;5;124m'\u001b[39m\u001b[38;5;124mLookalikeID\u001b[39m\u001b[38;5;124m'\u001b[39m\u001b[38;5;124m: \u001b[39m\u001b[38;5;124m'\u001b[39m\u001b[38;5;132;01m{\u001b[39;00mitem[\u001b[38;5;124m'\u001b[39m\u001b[38;5;124mLookalikeID\u001b[39m\u001b[38;5;124m'\u001b[39m]\u001b[38;5;132;01m}\u001b[39;00m\u001b[38;5;124m'\u001b[39m\u001b[38;5;124m, \u001b[39m\u001b[38;5;124m'\u001b[39m\u001b[38;5;124mSimilarityScore\u001b[39m\u001b[38;5;124m'\u001b[39m\u001b[38;5;124m: \u001b[39m\u001b[38;5;132;01m{\u001b[39;00mitem[\u001b[38;5;124m'\u001b[39m\u001b[38;5;124mSimilarityScore\u001b[39m\u001b[38;5;124m'\u001b[39m]\u001b[38;5;132;01m}\u001b[39;00m\u001b[38;5;130;01m}}\u001b[39;00m\u001b[38;5;124m\"\u001b[39m \u001b[38;5;28;01mfor\u001b[39;00m item \u001b[38;5;129;01min\u001b[39;00m lookalikes])\n\u001b[0;32m     66\u001b[0m     )\n\u001b[0;32m     68\u001b[0m lookalike_df \u001b[38;5;241m=\u001b[39m pd\u001b[38;5;241m.\u001b[39mDataFrame(lookalike_data)\n\u001b[1;32m---> 69\u001b[0m lookalike_df\u001b[38;5;241m.\u001b[39mto_csv(\u001b[38;5;124mr\u001b[39m\u001b[38;5;124m'\u001b[39m\u001b[38;5;124mC:\u001b[39m\u001b[38;5;124m\\\u001b[39m\u001b[38;5;124mUsers\u001b[39m\u001b[38;5;124m\\\u001b[39m\u001b[38;5;124mshaik\u001b[39m\u001b[38;5;124m\\\u001b[39m\u001b[38;5;124mDesktop\u001b[39m\u001b[38;5;124m\\\u001b[39m\u001b[38;5;124mnewintern\u001b[39m\u001b[38;5;124m\\\u001b[39m\u001b[38;5;124mLookalike.csv\u001b[39m\u001b[38;5;124m'\u001b[39m, index\u001b[38;5;241m=\u001b[39m\u001b[38;5;28;01mFalse\u001b[39;00m)\n\u001b[0;32m     71\u001b[0m \u001b[38;5;28mprint\u001b[39m(\u001b[38;5;124m\"\u001b[39m\u001b[38;5;124mLookalike.csv has been generated.\u001b[39m\u001b[38;5;124m\"\u001b[39m)\n",
      "File \u001b[1;32m~\\anaconda3\\Lib\\site-packages\\pandas\\core\\generic.py:3772\u001b[0m, in \u001b[0;36mNDFrame.to_csv\u001b[1;34m(self, path_or_buf, sep, na_rep, float_format, columns, header, index, index_label, mode, encoding, compression, quoting, quotechar, lineterminator, chunksize, date_format, doublequote, escapechar, decimal, errors, storage_options)\u001b[0m\n\u001b[0;32m   3761\u001b[0m df \u001b[38;5;241m=\u001b[39m \u001b[38;5;28mself\u001b[39m \u001b[38;5;28;01mif\u001b[39;00m \u001b[38;5;28misinstance\u001b[39m(\u001b[38;5;28mself\u001b[39m, ABCDataFrame) \u001b[38;5;28;01melse\u001b[39;00m \u001b[38;5;28mself\u001b[39m\u001b[38;5;241m.\u001b[39mto_frame()\n\u001b[0;32m   3763\u001b[0m formatter \u001b[38;5;241m=\u001b[39m DataFrameFormatter(\n\u001b[0;32m   3764\u001b[0m     frame\u001b[38;5;241m=\u001b[39mdf,\n\u001b[0;32m   3765\u001b[0m     header\u001b[38;5;241m=\u001b[39mheader,\n\u001b[1;32m   (...)\u001b[0m\n\u001b[0;32m   3769\u001b[0m     decimal\u001b[38;5;241m=\u001b[39mdecimal,\n\u001b[0;32m   3770\u001b[0m )\n\u001b[1;32m-> 3772\u001b[0m \u001b[38;5;28;01mreturn\u001b[39;00m DataFrameRenderer(formatter)\u001b[38;5;241m.\u001b[39mto_csv(\n\u001b[0;32m   3773\u001b[0m     path_or_buf,\n\u001b[0;32m   3774\u001b[0m     lineterminator\u001b[38;5;241m=\u001b[39mlineterminator,\n\u001b[0;32m   3775\u001b[0m     sep\u001b[38;5;241m=\u001b[39msep,\n\u001b[0;32m   3776\u001b[0m     encoding\u001b[38;5;241m=\u001b[39mencoding,\n\u001b[0;32m   3777\u001b[0m     errors\u001b[38;5;241m=\u001b[39merrors,\n\u001b[0;32m   3778\u001b[0m     compression\u001b[38;5;241m=\u001b[39mcompression,\n\u001b[0;32m   3779\u001b[0m     quoting\u001b[38;5;241m=\u001b[39mquoting,\n\u001b[0;32m   3780\u001b[0m     columns\u001b[38;5;241m=\u001b[39mcolumns,\n\u001b[0;32m   3781\u001b[0m     index_label\u001b[38;5;241m=\u001b[39mindex_label,\n\u001b[0;32m   3782\u001b[0m     mode\u001b[38;5;241m=\u001b[39mmode,\n\u001b[0;32m   3783\u001b[0m     chunksize\u001b[38;5;241m=\u001b[39mchunksize,\n\u001b[0;32m   3784\u001b[0m     quotechar\u001b[38;5;241m=\u001b[39mquotechar,\n\u001b[0;32m   3785\u001b[0m     date_format\u001b[38;5;241m=\u001b[39mdate_format,\n\u001b[0;32m   3786\u001b[0m     doublequote\u001b[38;5;241m=\u001b[39mdoublequote,\n\u001b[0;32m   3787\u001b[0m     escapechar\u001b[38;5;241m=\u001b[39mescapechar,\n\u001b[0;32m   3788\u001b[0m     storage_options\u001b[38;5;241m=\u001b[39mstorage_options,\n\u001b[0;32m   3789\u001b[0m )\n",
      "File \u001b[1;32m~\\anaconda3\\Lib\\site-packages\\pandas\\io\\formats\\format.py:1186\u001b[0m, in \u001b[0;36mDataFrameRenderer.to_csv\u001b[1;34m(self, path_or_buf, encoding, sep, columns, index_label, mode, compression, quoting, quotechar, lineterminator, chunksize, date_format, doublequote, escapechar, errors, storage_options)\u001b[0m\n\u001b[0;32m   1165\u001b[0m     created_buffer \u001b[38;5;241m=\u001b[39m \u001b[38;5;28;01mFalse\u001b[39;00m\n\u001b[0;32m   1167\u001b[0m csv_formatter \u001b[38;5;241m=\u001b[39m CSVFormatter(\n\u001b[0;32m   1168\u001b[0m     path_or_buf\u001b[38;5;241m=\u001b[39mpath_or_buf,\n\u001b[0;32m   1169\u001b[0m     lineterminator\u001b[38;5;241m=\u001b[39mlineterminator,\n\u001b[1;32m   (...)\u001b[0m\n\u001b[0;32m   1184\u001b[0m     formatter\u001b[38;5;241m=\u001b[39m\u001b[38;5;28mself\u001b[39m\u001b[38;5;241m.\u001b[39mfmt,\n\u001b[0;32m   1185\u001b[0m )\n\u001b[1;32m-> 1186\u001b[0m csv_formatter\u001b[38;5;241m.\u001b[39msave()\n\u001b[0;32m   1188\u001b[0m \u001b[38;5;28;01mif\u001b[39;00m created_buffer:\n\u001b[0;32m   1189\u001b[0m     \u001b[38;5;28;01massert\u001b[39;00m \u001b[38;5;28misinstance\u001b[39m(path_or_buf, StringIO)\n",
      "File \u001b[1;32m~\\anaconda3\\Lib\\site-packages\\pandas\\io\\formats\\csvs.py:240\u001b[0m, in \u001b[0;36mCSVFormatter.save\u001b[1;34m(self)\u001b[0m\n\u001b[0;32m    236\u001b[0m \u001b[38;5;250m\u001b[39m\u001b[38;5;124;03m\"\"\"\u001b[39;00m\n\u001b[0;32m    237\u001b[0m \u001b[38;5;124;03mCreate the writer & save.\u001b[39;00m\n\u001b[0;32m    238\u001b[0m \u001b[38;5;124;03m\"\"\"\u001b[39;00m\n\u001b[0;32m    239\u001b[0m \u001b[38;5;66;03m# apply compression and byte/text conversion\u001b[39;00m\n\u001b[1;32m--> 240\u001b[0m \u001b[38;5;28;01mwith\u001b[39;00m get_handle(\n\u001b[0;32m    241\u001b[0m     \u001b[38;5;28mself\u001b[39m\u001b[38;5;241m.\u001b[39mfilepath_or_buffer,\n\u001b[0;32m    242\u001b[0m     \u001b[38;5;28mself\u001b[39m\u001b[38;5;241m.\u001b[39mmode,\n\u001b[0;32m    243\u001b[0m     encoding\u001b[38;5;241m=\u001b[39m\u001b[38;5;28mself\u001b[39m\u001b[38;5;241m.\u001b[39mencoding,\n\u001b[0;32m    244\u001b[0m     errors\u001b[38;5;241m=\u001b[39m\u001b[38;5;28mself\u001b[39m\u001b[38;5;241m.\u001b[39merrors,\n\u001b[0;32m    245\u001b[0m     compression\u001b[38;5;241m=\u001b[39m\u001b[38;5;28mself\u001b[39m\u001b[38;5;241m.\u001b[39mcompression,\n\u001b[0;32m    246\u001b[0m     storage_options\u001b[38;5;241m=\u001b[39m\u001b[38;5;28mself\u001b[39m\u001b[38;5;241m.\u001b[39mstorage_options,\n\u001b[0;32m    247\u001b[0m ) \u001b[38;5;28;01mas\u001b[39;00m handles:\n\u001b[0;32m    248\u001b[0m     \u001b[38;5;66;03m# Note: self.encoding is irrelevant here\u001b[39;00m\n\u001b[0;32m    249\u001b[0m     \u001b[38;5;28mself\u001b[39m\u001b[38;5;241m.\u001b[39mwriter \u001b[38;5;241m=\u001b[39m csvlib\u001b[38;5;241m.\u001b[39mwriter(\n\u001b[0;32m    250\u001b[0m         handles\u001b[38;5;241m.\u001b[39mhandle,\n\u001b[0;32m    251\u001b[0m         lineterminator\u001b[38;5;241m=\u001b[39m\u001b[38;5;28mself\u001b[39m\u001b[38;5;241m.\u001b[39mlineterminator,\n\u001b[1;32m   (...)\u001b[0m\n\u001b[0;32m    256\u001b[0m         quotechar\u001b[38;5;241m=\u001b[39m\u001b[38;5;28mself\u001b[39m\u001b[38;5;241m.\u001b[39mquotechar,\n\u001b[0;32m    257\u001b[0m     )\n\u001b[0;32m    259\u001b[0m     \u001b[38;5;28mself\u001b[39m\u001b[38;5;241m.\u001b[39m_save()\n",
      "File \u001b[1;32m~\\anaconda3\\Lib\\site-packages\\pandas\\io\\common.py:859\u001b[0m, in \u001b[0;36mget_handle\u001b[1;34m(path_or_buf, mode, encoding, compression, memory_map, is_text, errors, storage_options)\u001b[0m\n\u001b[0;32m    854\u001b[0m \u001b[38;5;28;01melif\u001b[39;00m \u001b[38;5;28misinstance\u001b[39m(handle, \u001b[38;5;28mstr\u001b[39m):\n\u001b[0;32m    855\u001b[0m     \u001b[38;5;66;03m# Check whether the filename is to be opened in binary mode.\u001b[39;00m\n\u001b[0;32m    856\u001b[0m     \u001b[38;5;66;03m# Binary mode does not support 'encoding' and 'newline'.\u001b[39;00m\n\u001b[0;32m    857\u001b[0m     \u001b[38;5;28;01mif\u001b[39;00m ioargs\u001b[38;5;241m.\u001b[39mencoding \u001b[38;5;129;01mand\u001b[39;00m \u001b[38;5;124m\"\u001b[39m\u001b[38;5;124mb\u001b[39m\u001b[38;5;124m\"\u001b[39m \u001b[38;5;129;01mnot\u001b[39;00m \u001b[38;5;129;01min\u001b[39;00m ioargs\u001b[38;5;241m.\u001b[39mmode:\n\u001b[0;32m    858\u001b[0m         \u001b[38;5;66;03m# Encoding\u001b[39;00m\n\u001b[1;32m--> 859\u001b[0m         handle \u001b[38;5;241m=\u001b[39m \u001b[38;5;28mopen\u001b[39m(\n\u001b[0;32m    860\u001b[0m             handle,\n\u001b[0;32m    861\u001b[0m             ioargs\u001b[38;5;241m.\u001b[39mmode,\n\u001b[0;32m    862\u001b[0m             encoding\u001b[38;5;241m=\u001b[39mioargs\u001b[38;5;241m.\u001b[39mencoding,\n\u001b[0;32m    863\u001b[0m             errors\u001b[38;5;241m=\u001b[39merrors,\n\u001b[0;32m    864\u001b[0m             newline\u001b[38;5;241m=\u001b[39m\u001b[38;5;124m\"\u001b[39m\u001b[38;5;124m\"\u001b[39m,\n\u001b[0;32m    865\u001b[0m         )\n\u001b[0;32m    866\u001b[0m     \u001b[38;5;28;01melse\u001b[39;00m:\n\u001b[0;32m    867\u001b[0m         \u001b[38;5;66;03m# Binary mode\u001b[39;00m\n\u001b[0;32m    868\u001b[0m         handle \u001b[38;5;241m=\u001b[39m \u001b[38;5;28mopen\u001b[39m(handle, ioargs\u001b[38;5;241m.\u001b[39mmode)\n",
      "\u001b[1;31mPermissionError\u001b[0m: [Errno 13] Permission denied: 'C:\\\\Users\\\\shaik\\\\Desktop\\\\newintern\\\\Lookalike.csv'"
     ]
    }
   ],
   "source": [
    "import pandas as pd\n",
    "from sklearn.preprocessing import StandardScaler\n",
    "from sklearn.metrics.pairwise import cosine_similarity\n",
    "\n",
    "# Load datasets\n",
    "customers_df = pd.read_csv(r'C:\\Users\\shaik\\Desktop\\newintern\\Customers.csv')\n",
    "products_df = pd.read_csv(r'C:\\Users\\shaik\\Desktop\\newintern\\Products.csv')\n",
    "transactions_df = pd.read_csv(r'C:\\Users\\shaik\\Desktop\\newintern\\Transactions.csv')\n",
    "\n",
    "# Merge datasets\n",
    "transactions_products = pd.merge(transactions_df, products_df, on='ProductID', how='left')\n",
    "merged_data = pd.merge(transactions_products, customers_df, on='CustomerID', how='left')\n",
    "\n",
    "# Feature Engineering\n",
    "customer_features = merged_data.groupby('CustomerID').agg(\n",
    "    total_spent=('TotalValue', 'sum'),\n",
    "    total_transactions=('TransactionID', 'count'),\n",
    "    avg_spending=('TotalValue', 'mean'),\n",
    "    distinct_categories=('Category', lambda x: x.nunique()),\n",
    "    distinct_products=('ProductID', lambda x: x.nunique())\n",
    ").reset_index()\n",
    "\n",
    "category_prefs = pd.get_dummies(merged_data[['CustomerID', 'Category']], columns=['Category'])\n",
    "category_prefs = category_prefs.groupby('CustomerID').sum().reset_index()\n",
    "customer_features = pd.merge(customer_features, category_prefs, on='CustomerID', how='left')\n",
    "\n",
    "# Normalize features\n",
    "scaler = StandardScaler()\n",
    "numerical_features = customer_features.drop(columns=['CustomerID']).set_index(customer_features['CustomerID'])\n",
    "normalized_features = scaler.fit_transform(numerical_features)\n",
    "\n",
    "# Compute cosine similarity\n",
    "similarity_matrix = cosine_similarity(normalized_features)\n",
    "similarity_df = pd.DataFrame(similarity_matrix, index=customer_features['CustomerID'], columns=customer_features['CustomerID'])\n",
    "\n",
    "# Generate Lookalike Map for customers C0001 - C0020\n",
    "target_customers = [f'C{str(i).zfill(4)}' for i in range(1, 21)]\n",
    "lookalike_map = {}\n",
    "\n",
    "for customer_id in target_customers:\n",
    "    if customer_id in similarity_df.index:\n",
    "        similar_customers = similarity_df[customer_id].sort_values(ascending=False).iloc[1:4]\n",
    "        lookalike_map[customer_id] = [\n",
    "            {\n",
    "                \"LookalikeID\": similar_customer_id,\n",
    "                \"SimilarityScore\": round(score, 4)\n",
    "            }\n",
    "            for similar_customer_id, score in zip(similar_customers.index, similar_customers.values)\n",
    "        ]\n",
    "\n",
    "# Display top 3 lookalikes for each of the first 20 customers\n",
    "print(\"Top 3 lookalikes for each of the first 20 customers:\")\n",
    "for customer, lookalikes in lookalike_map.items():\n",
    "    print(f\"Customer {customer}: {lookalikes}\")\n",
    "\n",
    "# Create Lookalike.csv\n",
    "lookalike_data = {\n",
    "    'CustomerID': [],\n",
    "    'Lookalikes': []\n",
    "}\n",
    "\n",
    "for cust_id, lookalikes in lookalike_map.items():\n",
    "    lookalike_data['CustomerID'].append(cust_id)\n",
    "    lookalike_data['Lookalikes'].append(\n",
    "        \", \".join([f\"{{'LookalikeID': '{item['LookalikeID']}', 'SimilarityScore': {item['SimilarityScore']}}}\" for item in lookalikes])\n",
    "    )\n",
    "\n",
    "lookalike_df = pd.DataFrame(lookalike_data)\n",
    "lookalike_df.to_csv(r'C:\\Users\\shaik\\Desktop\\newintern\\Lookalike.csv', index=False)\n",
    "\n",
    "print(\"Lookalike.csv has been generated.\")\n"
   ]
  },
  {
   "cell_type": "code",
   "execution_count": null,
   "id": "81e99641",
   "metadata": {},
   "outputs": [],
   "source": []
  },
  {
   "cell_type": "code",
   "execution_count": null,
   "id": "35b07bec",
   "metadata": {},
   "outputs": [],
   "source": []
  },
  {
   "cell_type": "code",
   "execution_count": null,
   "id": "cd433459",
   "metadata": {},
   "outputs": [],
   "source": []
  },
  {
   "cell_type": "code",
   "execution_count": null,
   "id": "8672f972",
   "metadata": {},
   "outputs": [],
   "source": []
  },
  {
   "cell_type": "code",
   "execution_count": null,
   "id": "4f655515",
   "metadata": {},
   "outputs": [],
   "source": []
  },
  {
   "cell_type": "code",
   "execution_count": null,
   "id": "b3582091",
   "metadata": {},
   "outputs": [],
   "source": []
  },
  {
   "cell_type": "code",
   "execution_count": null,
   "id": "0e37a561",
   "metadata": {},
   "outputs": [],
   "source": []
  },
  {
   "cell_type": "code",
   "execution_count": null,
   "id": "b2d021a0",
   "metadata": {},
   "outputs": [],
   "source": []
  },
  {
   "cell_type": "code",
   "execution_count": null,
   "id": "9539ec6a",
   "metadata": {},
   "outputs": [],
   "source": []
  },
  {
   "cell_type": "code",
   "execution_count": null,
   "id": "813c349e",
   "metadata": {},
   "outputs": [],
   "source": []
  },
  {
   "cell_type": "code",
   "execution_count": null,
   "id": "bef54ad0",
   "metadata": {},
   "outputs": [],
   "source": []
  },
  {
   "cell_type": "code",
   "execution_count": null,
   "id": "61d5d6e2",
   "metadata": {},
   "outputs": [],
   "source": []
  },
  {
   "cell_type": "code",
   "execution_count": null,
   "id": "04021102",
   "metadata": {},
   "outputs": [],
   "source": []
  },
  {
   "cell_type": "code",
   "execution_count": null,
   "id": "7e7ca6f7",
   "metadata": {},
   "outputs": [],
   "source": []
  },
  {
   "cell_type": "code",
   "execution_count": null,
   "id": "040b99e1",
   "metadata": {},
   "outputs": [],
   "source": []
  }
 ],
 "metadata": {
  "kernelspec": {
   "display_name": "Python 3 (ipykernel)",
   "language": "python",
   "name": "python3"
  },
  "language_info": {
   "codemirror_mode": {
    "name": "ipython",
    "version": 3
   },
   "file_extension": ".py",
   "mimetype": "text/x-python",
   "name": "python",
   "nbconvert_exporter": "python",
   "pygments_lexer": "ipython3",
   "version": "3.11.5"
  }
 },
 "nbformat": 4,
 "nbformat_minor": 5
}
